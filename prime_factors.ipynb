{
 "cells": [
  {
   "cell_type": "code",
   "execution_count": 74,
   "id": "3f1a837a-b911-4922-8c78-2bf26cdf4433",
   "metadata": {},
   "outputs": [
    {
     "name": "stdin",
     "output_type": "stream",
     "text": [
      "enter num to check how many prime factors there? 125\n"
     ]
    },
    {
     "name": "stdout",
     "output_type": "stream",
     "text": [
      "divisible by => [5, 25]\n",
      " prime factors => [5]\n"
     ]
    }
   ],
   "source": [
    "def prime(num):\n",
    "    global lis \n",
    "    lis = []\n",
    "    for i in range(2, num//2+1):\n",
    "        if num % i == 0:\n",
    "            lis.append(i)\n",
    "    return (lis)\n",
    "def prime_fact(lis):\n",
    "    prime_fact = []\n",
    "    for j in lis:\n",
    "        flag = 0\n",
    "        for k in range(2, j//2+1):\n",
    "            if j % k == 0:\n",
    "                flag = 1\n",
    "        if flag == 0:\n",
    "            prime_fact.append(j)\n",
    "    return (prime_fact)\n",
    "user_inp = int(input('enter num to check how many prime factors there?'))\n",
    "prime(user_inp)\n",
    "print(f\"divisible by => {prime(user_inp)}\\n prime factors => {prime_fact(lis)}\")\n"
   ]
  },
  {
   "cell_type": "code",
   "execution_count": null,
   "id": "035bab71-8eb4-4669-94a2-d21b2ebb77cc",
   "metadata": {},
   "outputs": [],
   "source": []
  }
 ],
 "metadata": {
  "kernelspec": {
   "display_name": "Python 3 (ipykernel)",
   "language": "python",
   "name": "python3"
  },
  "language_info": {
   "codemirror_mode": {
    "name": "ipython",
    "version": 3
   },
   "file_extension": ".py",
   "mimetype": "text/x-python",
   "name": "python",
   "nbconvert_exporter": "python",
   "pygments_lexer": "ipython3",
   "version": "3.10.5"
  },
  "toc-autonumbering": false
 },
 "nbformat": 4,
 "nbformat_minor": 5
}
